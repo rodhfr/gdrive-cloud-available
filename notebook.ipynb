{
  "cells": [
    {
      "cell_type": "markdown",
      "metadata": {
        "colab_type": "text",
        "id": "view-in-github"
      },
      "source": [
        "<a href=\"https://colab.research.google.com/github/Yassine-Latreche/Download-From-Direct-Link-To-Drive/blob/main/Download_From_Direct_Link_To_Drive.ipynb\" target=\"_parent\"><img src=\"https://colab.research.google.com/assets/colab-badge.svg\" alt=\"Open In Colab\"/></a>"
      ]
    },
    {
      "cell_type": "markdown",
      "metadata": {
        "id": "hzcYuTG5I5ji"
      },
      "source": [
        "#Download From Direct Link To Drive:\n",
        "I created this notebook because my internet connection is so bad, and some websites doesn't allow resuming downloads so if you lost your connection, you have to start again from the beginning.\n",
        "\n",
        "```\n",
        "Belive me , it really sucks\n",
        "```\n",
        "With Google Colab service, we can benefit for it's ability to execute terminal commands like `wget` and to connect with our drive.\n",
        "\n",
        "# BEFORE YOU USE IT:\n",
        "I think that you are an adult, and so ...\n",
        "#### **YOU ARE RESPONSIBLE FOR YOUR USE OF THIS METHOD.**"
      ]
    },
    {
      "cell_type": "markdown",
      "metadata": {
        "id": "l9HPKjYIJyxJ"
      },
      "source": [
        "## How does it work ?\n",
        "\n",
        "\n",
        "1.   Mount your drive.\n",
        "2.   Use wget to download the file.\n",
        "3.   Move your file to your drive.\n",
        "4.   Done!\n",
        "\n"
      ]
    },
    {
      "cell_type": "markdown",
      "metadata": {
        "id": "CIi60m5lKnSI"
      },
      "source": [
        "### Mount your drive:"
      ]
    },
    {
      "cell_type": "code",
      "execution_count": null,
      "metadata": {
        "id": "Xpehx1vXIykC"
      },
      "outputs": [],
      "source": [
        "from google.colab import drive\n",
        "drive.mount('/content/drive')"
      ]
    },
    {
      "cell_type": "markdown",
      "metadata": {},
      "source": [
        "### Place the urls into the urls.txt file"
      ]
    },
    {
      "cell_type": "code",
      "execution_count": null,
      "metadata": {},
      "outputs": [],
      "source": [
        "touch urls.txt "
      ]
    },
    {
      "cell_type": "code",
      "execution_count": null,
      "metadata": {},
      "outputs": [],
      "source": [
        "\"insert urls here\" > urls.txt"
      ]
    },
    {
      "cell_type": "markdown",
      "metadata": {
        "id": "DR_kvuUjKuMI"
      },
      "source": [
        "### Use wget to download the file:\n",
        "Replace your link with `link`  to download to Google Drive Root Folder"
      ]
    },
    {
      "cell_type": "code",
      "execution_count": null,
      "metadata": {
        "id": "ThdEeicaKxPn"
      },
      "outputs": [],
      "source": [
        "! wget -P drive/MyDrive/ -i urls.txt\n"
      ]
    },
    {
      "cell_type": "markdown",
      "metadata": {
        "id": "VUoN84C9KuyQ"
      },
      "source": [
        "### Done."
      ]
    }
  ],
  "metadata": {
    "colab": {
      "authorship_tag": "ABX9TyPheIuhbmLGZJRvBOaTEsUN",
      "collapsed_sections": [],
      "include_colab_link": true,
      "name": "Download From Direct Link To Drive.ipynb",
      "provenance": []
    },
    "kernelspec": {
      "display_name": "Python 3",
      "name": "python3"
    }
  },
  "nbformat": 4,
  "nbformat_minor": 0
}
