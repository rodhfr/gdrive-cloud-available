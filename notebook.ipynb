{
  "cells": [
    {
      "cell_type": "markdown",
      "metadata": {},
      "source": [
        "<a href=\"https://colab.research.google.com/github/rodhfr/gdrive-cloud-available/blob/main/notebook.ipynb\" target=\"_parent\">\n",
        "  <img src=\"https://colab.research.google.com/assets/colab-badge.svg\" alt=\"Open In Colab\"/>\n",
        "</a>\n"
      ]
    },
    {
      "cell_type": "markdown",
      "metadata": {
        "id": "hzcYuTG5I5ji"
      },
      "source": [
        "# Disclaimer\n",
        "YOU ARE RESPONSIBLE FOR YOUR USE OF THIS METHOD.\n",
        "\n",
        "Don't abuse this method or it might get banned\n",
        "\n",
        "# Directly wget from collab to you personal drive account"
      ]
    },
    {
      "cell_type": "markdown",
      "metadata": {
        "id": "l9HPKjYIJyxJ"
      },
      "source": [
        "## How does it work ?\n",
        "\n",
        "\n",
        "1.   Mount your Drive.\n",
        "2.   Place the urls in the urls.txt file\n",
        "3.   Use wget to download the urls.\n",
        "4.   The files will appear at the Drive's root folder \"MyDrive\"\n",
        "\n",
        "\n"
      ]
    },
    {
      "cell_type": "markdown",
      "metadata": {
        "id": "CIi60m5lKnSI"
      },
      "source": [
        "### Mount your drive:"
      ]
    },
    {
      "cell_type": "code",
      "execution_count": null,
      "metadata": {
        "id": "Xpehx1vXIykC"
      },
      "outputs": [],
      "source": [
        "from google.colab import drive\n",
        "drive.mount('/content/drive')"
      ]
    },
    {
      "cell_type": "markdown",
      "metadata": {},
      "source": [
        "### Place the urls into the urls.txt file"
      ]
    },
    {
      "cell_type": "code",
      "execution_count": null,
      "metadata": {},
      "outputs": [],
      "source": [
        "links = \"\"\"\n",
        "http://example.com\n",
        "http://anotherexample.com\n",
        "http://yetanotherexample.com\n",
        "\"\"\"\n",
        "\n",
        "with open('urls.txt', 'w') as f:\n",
        "    f.write(links)\n"
      ]
    },
    {
      "cell_type": "markdown",
      "metadata": {},
      "source": [
        "You can also edit urls.txt with the file explorer on the left panel."
      ]
    },
    {
      "cell_type": "markdown",
      "metadata": {
        "id": "DR_kvuUjKuMI"
      },
      "source": [
        "### Use wget to download the file:\n",
        "Replace your link with `link`  to download to Google Drive Root Folder"
      ]
    },
    {
      "cell_type": "code",
      "execution_count": null,
      "metadata": {
        "id": "ThdEeicaKxPn"
      },
      "outputs": [],
      "source": [
        "! wget -P drive/MyDrive/ -i urls.txt\n"
      ]
    },
    {
      "cell_type": "markdown",
      "metadata": {
        "id": "VUoN84C9KuyQ"
      },
      "source": [
        "### Done."
      ]
    },
    {
      "cell_type": "markdown",
      "metadata": {},
      "source": [
        "## Storage Full?"
      ]
    },
    {
      "cell_type": "markdown",
      "metadata": {},
      "source": [
        "If you collab storage quota ends just delete this notebook and create a new one, then space will be available."
      ]
    }
  ],
  "metadata": {
    "colab": {
      "authorship_tag": "ABX9TyPheIuhbmLGZJRvBOaTEsUN",
      "collapsed_sections": [],
      "include_colab_link": true,
      "name": "Download From Direct Link To Drive.ipynb",
      "provenance": []
    },
    "kernelspec": {
      "display_name": "Python 3",
      "name": "python3"
    }
  },
  "nbformat": 4,
  "nbformat_minor": 0
}
